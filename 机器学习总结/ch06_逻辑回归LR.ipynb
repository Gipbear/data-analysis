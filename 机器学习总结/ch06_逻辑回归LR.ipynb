{
 "cells": [
  {
   "cell_type": "markdown",
   "metadata": {},
   "source": [
    "# 逻辑回归 Logistics Regression\n",
    "\n",
    "逻辑回归一般用于估计某事件发生的可能性，虽然被称之为回归，但实际上常被用做分类问题。\n",
    "\n",
    "逻辑回归基于线性回归模型，对线性输出增加sigmoid函数做一个变换，使得最终的结果映射在（0，1）区间：\n",
    "$$\n",
    "    g(z) = \\frac{1}{1+e^{-z}}\n",
    "$$\n",
    "\n"
   ]
  }
 ],
 "metadata": {
  "kernelspec": {
   "display_name": "Python 3",
   "language": "python",
   "name": "python3"
  },
  "language_info": {
   "codemirror_mode": {
    "name": "ipython",
    "version": 3
   },
   "file_extension": ".py",
   "mimetype": "text/x-python",
   "name": "python",
   "nbconvert_exporter": "python",
   "pygments_lexer": "ipython3",
   "version": "3.8.3"
  }
 },
 "nbformat": 4,
 "nbformat_minor": 4
}
