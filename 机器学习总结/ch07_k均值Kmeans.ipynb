{
 "cells": [
  {
   "cell_type": "markdown",
   "metadata": {},
   "source": [
    "# K均值 K-means\n",
    "\n",
    "聚类算法与分类和回归不同，聚类算法的数据集没有标记，是一种无监督算法，目的是将数据按照相似度聚成不同类别。动态聚类算法是一种通过反复修改分类来达到最满意的聚类结果的迭代算法。\n",
    "\n",
    "K-means是一种典型的动态聚类算法，使用距离来衡量样本之间的相似度，距离的度量方法一般可以使用`欧几里得距离`或`余弦相似度`进行计算，最终**优化目标**是获得`最小误差平方和`。\n",
    "\n",
    "> 欧式距离体现的是样本数值上的差异（偏好），余弦距离体现的是样本方向上的差异。"
   ]
  },
  {
   "cell_type": "markdown",
   "metadata": {},
   "source": [
    "## K-means算法\n",
    "\n",
    "K-means算法的基本流程：\n",
    "1. 确定K值，即聚类的数量，并且对数据集进行标准化；\n",
    "2. 随机选择K点作为初始聚类的中心点，一般以数据集中最初的K个值作为初始中心点；\n",
    "3. 按照距离度量准则，分配样本类别；\n",
    "4. 按照各类样本，使用均值重新计算聚类中心点；\n",
    "5. 重复步骤3、4，直至算法收敛。\n"
   ]
  },
  {
   "cell_type": "markdown",
   "metadata": {},
   "source": [
    "### k-means 特点\n",
    "\n",
    "在K-means算法中，`聚类数目K`的选择、`聚类中心`的初始分布、模式样本的`几何性质`等因素都会对k-means算法的结果产生影响。\n",
    "\n",
    "* 优点：\n",
    "  1. 算法快速、简单\n",
    "  2. 时间复杂度近于线性，而且适合挖掘大规模数据集。\n",
    "* 缺点:\n",
    "  1. k值必须是事先给定的，但事先并不知道给定的数据集聚为几类最合适；\n",
    "  2. 初始聚类中心的选择是随机的，一旦初始值选择得不合理，就可能无法得到有效的聚类结果；\n",
    "  3. 样本的几何性质对算法的聚类结果也具有较大的影响；\n",
    "  4. 算法需要不断地进行样本分类调整，因此当数据量非常大时，算法需要的时间是非常多的。\n",
    "  \n",
    "> 改善K值选取方式：取k值的上限，一般在$[2,\\sqrt{n}]$，运行K-means得到初始聚类，通过判断边界距离决定是否合并一些相似的类别，重新获得聚类数目K，重新聚类，直至划分合理。\n",
    "> \n",
    "> 改进初始聚类中心：仅考虑距离因素会导致取到离群点作为初始聚类中心，还应考虑密度因素进行调整。"
   ]
  },
  {
   "cell_type": "code",
   "execution_count": 1,
   "metadata": {},
   "outputs": [],
   "source": [
    "import matplotlib.pyplot as plt\n",
    "import numpy as np\n",
    "from mpl_toolkits.mplot3d import Axes3D\n",
    "from sklearn import datasets\n",
    "from sklearn.cluster import KMeans\n",
    "\n",
    "%matplotlib widget\n",
    "plt.rcParams[\"font.sans-serif\"] = 'SimHei'  # 中文问题\n",
    "plt.rcParams[\"axes.unicode_minus\"] = False  # 负号问题\n",
    "%config InlineBackend.figure_format = 'svg'"
   ]
  },
  {
   "cell_type": "code",
   "execution_count": 2,
   "metadata": {},
   "outputs": [
    {
     "data": {
      "application/vnd.jupyter.widget-view+json": {
       "model_id": "9c9db70b8c4642d4ada19f4b63787ae5",
       "version_major": 2,
       "version_minor": 0
      },
      "text/plain": [
       "Canvas(toolbar=Toolbar(toolitems=[('Home', 'Reset original view', 'home', 'home'), ('Back', 'Back to previous …"
      ]
     },
     "metadata": {},
     "output_type": "display_data"
    },
    {
     "data": {
      "application/vnd.jupyter.widget-view+json": {
       "model_id": "5f38bd75af9b4ccf81772e7893ae7698",
       "version_major": 2,
       "version_minor": 0
      },
      "text/plain": [
       "Canvas(toolbar=Toolbar(toolitems=[('Home', 'Reset original view', 'home', 'home'), ('Back', 'Back to previous …"
      ]
     },
     "metadata": {},
     "output_type": "display_data"
    },
    {
     "data": {
      "application/vnd.jupyter.widget-view+json": {
       "model_id": "81dd46f02fa8419e8049e77d04069327",
       "version_major": 2,
       "version_minor": 0
      },
      "text/plain": [
       "Canvas(toolbar=Toolbar(toolitems=[('Home', 'Reset original view', 'home', 'home'), ('Back', 'Back to previous …"
      ]
     },
     "metadata": {},
     "output_type": "display_data"
    },
    {
     "data": {
      "application/vnd.jupyter.widget-view+json": {
       "model_id": "68eae386217d45bba825ac1ae2d31d92",
       "version_major": 2,
       "version_minor": 0
      },
      "text/plain": [
       "Canvas(toolbar=Toolbar(toolitems=[('Home', 'Reset original view', 'home', 'home'), ('Back', 'Back to previous …"
      ]
     },
     "metadata": {},
     "output_type": "display_data"
    }
   ],
   "source": [
    "np.random.seed(5)\n",
    "iris = datasets.load_iris()\n",
    "X = iris.data\n",
    "y = iris.target\n",
    "\n",
    "estimators = [('k_means_iris_8', KMeans(n_clusters=8)),\n",
    "              ('k_means_iris_3', KMeans(n_clusters=3)),\n",
    "              ('k_means_iris_bad_init', KMeans(n_clusters=3, n_init=1, init='random'))]\n",
    "fignum = 1\n",
    "titles = ['8 clusters', '3 clusters', '3 clusters, bad initialization']\n",
    "for name, est in estimators:\n",
    "    fig = plt.figure(fignum, figsize=(4, 3))\n",
    "    ax = Axes3D(fig, rect=[0, 0, .95, 1], elev=48, azim=134)\n",
    "    est.fit(X)\n",
    "    labels = est.labels_\n",
    "\n",
    "    ax.scatter(X[:, 3], X[:, 0], X[:, 2], c=labels.astype(np.float), edgecolor='k')\n",
    "\n",
    "    ax.w_xaxis.set_ticklabels([])\n",
    "    ax.w_yaxis.set_ticklabels([])\n",
    "    ax.w_zaxis.set_ticklabels([])\n",
    "    ax.set_xlabel('Petal width')\n",
    "    ax.set_ylabel('Sepal length')\n",
    "    ax.set_zlabel('Petal length')\n",
    "    ax.set_title(titles[fignum - 1])\n",
    "    ax.dist = 12\n",
    "    fignum = fignum + 1\n",
    "\n",
    "fig = plt.figure(fignum, figsize=(4, 3))\n",
    "ax = Axes3D(fig, rect=[0, 0, .95, 1], elev=48, azim=134)\n",
    "# 有明确初始中心点的聚类结果\n",
    "for name, label in [('Setosa', 0), ('Versicolour', 1), ('Virginica', 2)]:\n",
    "    ax.text3D(X[y == label, 3].mean(),\n",
    "              X[y == label, 0].mean(),\n",
    "              X[y == label, 2].mean() + 2, name,\n",
    "              horizontalalignment='center',\n",
    "              bbox=dict(alpha=.2, edgecolor='w', facecolor='w'))\n",
    "# Reorder the labels to have colors matching the cluster results\n",
    "y = np.choose(y, [1, 2, 0]).astype(np.float)\n",
    "ax.scatter(X[:, 3], X[:, 0], X[:, 2], c=y, edgecolor='k')\n",
    "\n",
    "ax.w_xaxis.set_ticklabels([])\n",
    "ax.w_yaxis.set_ticklabels([])\n",
    "ax.w_zaxis.set_ticklabels([])\n",
    "ax.set_xlabel('Petal width')\n",
    "ax.set_ylabel('Sepal length')\n",
    "ax.set_zlabel('Petal length')\n",
    "ax.set_title('Ground Truth')\n",
    "ax.dist = 12\n",
    "\n",
    "fig.show()"
   ]
  },
  {
   "cell_type": "code",
   "execution_count": null,
   "metadata": {},
   "outputs": [],
   "source": []
  }
 ],
 "metadata": {
  "kernelspec": {
   "display_name": "Python 3",
   "language": "python",
   "name": "python3"
  },
  "language_info": {
   "codemirror_mode": {
    "name": "ipython",
    "version": 3
   },
   "file_extension": ".py",
   "mimetype": "text/x-python",
   "name": "python",
   "nbconvert_exporter": "python",
   "pygments_lexer": "ipython3",
   "version": "3.8.3"
  }
 },
 "nbformat": 4,
 "nbformat_minor": 4
}
