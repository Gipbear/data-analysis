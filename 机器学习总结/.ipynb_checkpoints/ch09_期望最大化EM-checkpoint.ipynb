{
 "cells": [
  {
   "cell_type": "markdown",
   "metadata": {},
   "source": [
    "# 期望最大化 Expectation Maximization\n",
    "\n",
    "EM算法是使用启发式迭代方法，先猜测需要求解的参数值，再利用已知数据进行最大似然估计来更新参数值，然后对估计得到的参数值再次进行最大似然估计，重复至模型收敛即可。\n",
    "\n",
    "K-Means算法也运用了这个算法思路，不断迭代更新聚类中心来获得最终的聚类结果。"
   ]
  },
  {
   "cell_type": "markdown",
   "metadata": {},
   "source": [
    "## 最大似然估计\n",
    "\n",
    "最大似然估计是一种通过已知结果，估计参数的方法。对于m个样本观察数据$x=\\{x_1,x_2,\\dots,x_m\\}$中，找出样本的模型参数θ, 最大似然估计函数如下：\n",
    "\n",
    "$$\n",
    "    \\theta = arg \\max_{\\theta} \\prod_{i=1}^m P(x_i;\\theta)\n",
    "$$\n",
    "\n",
    "由于对数关系不影响最大参数值，所以可以使用对数将乘法转化为加法：\n",
    "\n",
    "$$\n",
    "    \\theta = arg \\max_{\\theta} \\sum_{i=1}^m log P(x_i;\\theta)\n",
    "$$\n",
    "\n",
    "若数据中有未观察到的隐含数据$z=\\{z_1,z_2,\\dots,z_m\\}$，则最大化模型分布的对数似然函数如下：\n",
    "$$\n",
    "    \\theta = arg \\max_{\\theta} \\sum_{i=1}^m log P(x_i;\\theta) = arg \\max_{\\theta} \\sum_{i=1}^m log \\sum_{z_i}P(x^{(i)}, z_i;\\theta)\n",
    "$$"
   ]
  },
  {
   "cell_type": "markdown",
   "metadata": {},
   "source": [
    "## EM算法\n",
    "\n",
    "EM的算法是一个启发式迭代流程，数据样本为$x=\\{x_1,x_2,\\dots,x_m\\}$，联合分布$p(x,z;θ)$, 条件分布$p(z|x;θ)$, 最大迭代次数$J$。\n",
    "\n",
    "![EM算法案例图](./images/EM_01.png)\n",
    "\n",
    "* E-step\n",
    "    1. 首先随机初始化模型参数θ的初值$\\theta_0$。\n",
    "    2. 根据参数θ计算每个样本属于$z_i$的概率，计算联合分布的条件概率期望：\n",
    "    $$\n",
    "        Q_i(z_i) = P( z_i|x_i,\\theta_j))\n",
    "    $$\n",
    "    $$\n",
    "        L(\\theta, \\theta_j) = \\sum_{i=1}^m \\sum_{z_i}Q_i(z_i)log{P(x_i,z_i;\\theta)}\n",
    "    $$\n",
    "* M-step\n",
    "    1. 计算$L(\\theta,\\theta_j)$最值，得到$\\theta_{j+1}$：\n",
    "    $$\n",
    "        \\theta_{j+1} = arg \\max_\\theta L(\\theta, \\theta_j)\n",
    "    $$\n",
    "\n",
    "* 直至$\\theta_{j+1}$收敛，停止EM迭代计算。"
   ]
  },
  {
   "cell_type": "markdown",
   "metadata": {},
   "source": [
    "## GMM高斯混合模型\n",
    "\n",
    "GMM混合模型中，数据可以看作是由多个高斯分布的数据组合而成的，求解方式跟EM类似。"
   ]
  },
  {
   "cell_type": "code",
   "execution_count": 1,
   "metadata": {},
   "outputs": [],
   "source": [
    "import matplotlib.pyplot as plt\n",
    "import numpy as np\n",
    "import pandas as pd\n",
    "\n",
    "%matplotlib inline\n",
    "# %matplotlib widget\n",
    "plt.rcParams[\"font.sans-serif\"] = 'SimHei'  # 中文问题\n",
    "plt.rcParams[\"axes.unicode_minus\"] = False  # 负号问题\n",
    "%config InlineBackend.figure_format = 'svg'"
   ]
  },
  {
   "cell_type": "code",
   "execution_count": null,
   "metadata": {},
   "outputs": [],
   "source": [
    "data = pd.read_csv('Fremont.csv', index_col='Date', parse_dates=True)\n",
    "data.head()\n"
   ]
  }
 ],
 "metadata": {
  "kernelspec": {
   "display_name": "Python 3",
   "language": "python",
   "name": "python3"
  },
  "language_info": {
   "codemirror_mode": {
    "name": "ipython",
    "version": 3
   },
   "file_extension": ".py",
   "mimetype": "text/x-python",
   "name": "python",
   "nbconvert_exporter": "python",
   "pygments_lexer": "ipython3",
   "version": "3.8.3"
  }
 },
 "nbformat": 4,
 "nbformat_minor": 4
}
