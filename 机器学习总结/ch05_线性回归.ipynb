{
 "cells": [
  {
   "cell_type": "markdown",
   "metadata": {},
   "source": [
    "# 线性回归\n",
    "\n",
    "前一部分主要是分类算法，当然有些用于回归算法也是没有问题的。\n",
    "> 分类算法是用于离散变量的预测，而回归算法是用于连续变量的预测。\n",
    "\n",
    "线性回归就是利用变量之间的依赖关系建立一个线性方程，来对未知样本进行回归预测。"
   ]
  },
  {
   "cell_type": "markdown",
   "metadata": {},
   "source": [
    "## 简单线性回归基本原理\n",
    "\n",
    "简单线性回归模型用来描述因变量y和自变量x及偏差error之间的关系方程，其模型为：\n",
    "$$\n",
    "    \\hat{y} = β_0 + β_1x\n",
    "$$\n",
    "一般还有一个$ε$作为偏差，是一个服从均值为零正态分布的随机变量，由于正态分布的偏差$ε$的期望值为零，所以此处省略。\n",
    "\n",
    "为了得到最合适的线性方程，得到约束模型：\n",
    "\n",
    "$$\n",
    "    min \\sum^n_{i=1}(y_i-\\hat{y_i})^2\n",
    "$$\n",
    "\n",
    "分别对$b_0, b_1$求偏导，得到：\n",
    "\n",
    "$$\n",
    "    b_1 = \\frac{\\sum^n_{i=1}(x_i-\\bar{x})(y_i-\\bar{y})}{\\sum^n_{i=1}(x_i-\\bar{x})^2}\n",
    "$$\n",
    "\n",
    "$$\n",
    "    b_0 = \\bar{y} - b_1\\bar{x}\n",
    "$$\n",
    "\n",
    "将数据带入即可求得$b_0, b_1$的值得到回归方程。"
   ]
  },
  {
   "cell_type": "markdown",
   "metadata": {},
   "source": [
    "## 多元回归\n",
    "\n",
    "多元回归和简单线性回归类似，只是数据维度增加了，简单的约束模型也变成使用均方差（对应欧式距离）进行约束：\n",
    "\n",
    "$$\n",
    "    \\boldsymbol{W}^\\ast = arg \\min_w(\\boldsymbol{y}-\\boldsymbol{X}^\\prime\\boldsymbol{W})^T(\\boldsymbol{y}-\\boldsymbol{X}^\\prime\\boldsymbol{W})\n",
    "$$\n",
    "\n",
    "对其求导之后令其为零即可求得回归系数W的最优闭式解，有可能解的多个解，具有由学习算法的偏好决定。"
   ]
  },
  {
   "cell_type": "markdown",
   "metadata": {},
   "source": [
    "## 回归模型评价指标\n",
    "\n",
    "一般使用$R^2$评价回归模型的好坏\n",
    "\n",
    "$$\n",
    "    R^2=\\frac{SS_R}{SS_r}=1-\\frac{SS_E}{SS_r}\n",
    "$$\n",
    "\n",
    "其中$SS_r$为总平方差，$SS_R$为回归平方和，$SS_E$为残差平方和。\n",
    "\n",
    "$R^2$判定系数度量一个线性回归方程的拟合程度，越接近1拟合程度越好。"
   ]
  },
  {
   "cell_type": "code",
   "execution_count": 1,
   "metadata": {},
   "outputs": [
    {
     "data": {
      "text/plain": [
       "LinearRegression()"
      ]
     },
     "execution_count": 1,
     "metadata": {},
     "output_type": "execute_result"
    }
   ],
   "source": [
    "import matplotlib.pyplot as plt\n",
    "import numpy as np\n",
    "from sklearn import datasets\n",
    "from sklearn.linear_model import LinearRegression\n",
    "from sklearn.metrics import mean_squared_error, r2_score\n",
    "from sklearn.model_selection import train_test_split\n",
    "\n",
    "# 加载糖尿病数据集\n",
    "diabetes = datasets.load_diabetes()\n",
    "X = diabetes.data[:, np.newaxis, 2]\n",
    "y = diabetes.target\n",
    "X_train, X_test, y_train, y_test = train_test_split(X, y, test_size=0.2, random_state=42)\n",
    "# 导入模型，模型参数默认\n",
    "LR = LinearRegression()\n",
    "# 训练模型\n",
    "LR.fit(X_train, y_train)"
   ]
  },
  {
   "cell_type": "code",
   "execution_count": 2,
   "metadata": {},
   "outputs": [
    {
     "name": "stdout",
     "output_type": "stream",
     "text": [
      "截距:152.003\n",
      "模型系数:998.578\n",
      "均方误差Mean squared error: 4061.826\n",
      "R^2 Variance score: 0.233\n",
      "准确率 score: 0.233\n"
     ]
    },
    {
     "data": {
      "image/png": "[encoded data removed]",
      "text/plain": [
       "<Figure size 432x288 with 1 Axes>"
      ]
     },
     "metadata": {
      "needs_background": "light"
     },
     "output_type": "display_data"
    }
   ],
   "source": [
    "# 预测模型LR.predict(X_test),此时输出类别数据\n",
    "print('截距:%.3f' % LR.intercept_)\n",
    "print('模型系数:%.3f' % LR.coef_)\n",
    "print('均方误差Mean squared error: %.3f' % mean_squared_error(y_test, LR.predict(X_test)))\n",
    "print('R^2 Variance score: %.3f' % r2_score(y_test, LR.predict(X_test)))\n",
    "print('准确率 score: %.3f' % LR.score(X_test, y_test))\n",
    "\n",
    "plt.scatter(X_test, y_test, color='green')\n",
    "plt.plot(X_test, LR.predict(X_test), color='red', linewidth=3)\n",
    "plt.show()"
   ]
  },
  {
   "cell_type": "code",
   "execution_count": null,
   "metadata": {},
   "outputs": [],
   "source": []
  }
 ],
 "metadata": {
  "kernelspec": {
   "display_name": "Python 3",
   "language": "python",
   "name": "python3"
  },
  "language_info": {
   "codemirror_mode": {
    "name": "ipython",
    "version": 3
   },
   "file_extension": ".py",
   "mimetype": "text/x-python",
   "name": "python",
   "nbconvert_exporter": "python",
   "pygments_lexer": "ipython3",
   "version": "3.8.3"
  }
 },
 "nbformat": 4,
 "nbformat_minor": 4
}
