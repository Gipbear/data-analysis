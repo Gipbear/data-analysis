{
 "cells": [
  {
   "cell_type": "markdown",
   "metadata": {},
   "source": [
    "# 线性回归\n",
    "\n",
    "前一部分主要是分类算法，当然有些用于回归算法也是没有问题的。\n",
    "> 分类算法是用于离散变量的预测，而回归算法是用于连续变量的预测。\n",
    "\n",
    "线性回归就是利用变量之间的依赖关系建立一个线性方程，来对未知样本进行回归预测。"
   ]
  },
  {
   "cell_type": "markdown",
   "metadata": {},
   "source": [
    "## 简单线性回归基本原理\n",
    "\n",
    "简单线性回归模型用来描述因变量y和自变量x及偏差error之间的关系方程，其模型为：\n",
    "$$\n",
    "    \\hat{y} = β_0 + β_1x\n",
    "$$\n",
    "一般还有一个$ε$作为偏差，是一个服从均值为零正态分布的随机变量，由于正态分布的偏差$ε$的期望值为零，所以此处省略。\n",
    "\n",
    "为了得到最合适的线性方程，得到约束模型：\n",
    "\n",
    "$$\n",
    "    min \\sum^n_{i=1}(y_i-\\hat{y_i})^2\n",
    "$$\n",
    "\n",
    "分别对$b_0, b_1$求偏导，得到：\n",
    "\n",
    "$$\n",
    "    b_1 = \\frac{\\sum^n_{i=1}(x_i-\\bar{x})(y_i-\\bar{y})}{\\sum^n_{i=1}(x_i-\\bar{x})^2}\n",
    "$$\n",
    "\n",
    "$$\n",
    "    b_0 = \\bar{y} - b_1\\bar{x}\n",
    "$$\n",
    "\n",
    "将数据带入即可求得$b_0, b_1$的值得到回归方程。"
   ]
  },
  {
   "cell_type": "markdown",
   "metadata": {},
   "source": [
    "## 多元回归\n",
    "\n",
    "多元回归和简单线性回归类似，只是数据维度增加了，简单的约束模型也变成使用均方差（对应欧式距离）进行约束：\n",
    "\n",
    "$$\n",
    "    \\boldsymbol{W}^\\ast = arg \\min_w(\\boldsymbol{y}-\\boldsymbol{X}^\\prime\\boldsymbol{W})^T(\\boldsymbol{y}-\\boldsymbol{X}^\\prime\\boldsymbol{W})\n",
    "$$\n",
    "\n",
    "对其求导之后令其为零即可求得回归系数W的最优闭式解，有可能解的多个解，具有由学习算法的偏好决定。"
   ]
  },
  {
   "cell_type": "markdown",
   "metadata": {},
   "source": [
    "## 回归模型评价指标\n",
    "\n",
    "一般使用$R^2$评价回归模型的好坏\n",
    "\n",
    "$$\n",
    "    R^2=\\frac{SS_R}{SS_r}=1-\\frac{SS_E}{SS_r}\n",
    "$$\n",
    "\n",
    "其中$SS_r$为总平方差，$SS_R$为回归平方和，$SS_E$为残差平方和。\n",
    "\n",
    "$R^2$判定系数度量一个线性回归方程的拟合程度，越接近1拟合程度越好。"
   ]
  },
  {
   "cell_type": "code",
   "execution_count": null,
   "metadata": {},
   "outputs": [],
   "source": []
  }
 ],
 "metadata": {
  "kernelspec": {
   "display_name": "Python 3",
   "language": "python",
   "name": "python3"
  },
  "language_info": {
   "codemirror_mode": {
    "name": "ipython",
    "version": 3
   },
   "file_extension": ".py",
   "mimetype": "text/x-python",
   "name": "python",
   "nbconvert_exporter": "python",
   "pygments_lexer": "ipython3",
   "version": "3.8.3"
  }
 },
 "nbformat": 4,
 "nbformat_minor": 4
}
