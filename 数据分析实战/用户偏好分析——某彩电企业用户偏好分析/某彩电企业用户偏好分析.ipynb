{
 "cells": [
  {
   "cell_type": "markdown",
   "metadata": {},
   "source": [
    "# 某彩电企业用户偏好分析"
   ]
  },
  {
   "cell_type": "markdown",
   "metadata": {},
   "source": [
    "国内某彩电企业为了摆脱价格战，提高核心竞争力，从用户入手，针对不同用户偏好，展开差异化营销。同样地，我们需要明确研究目的和研究内容。\n",
    "\n",
    "研究目的很简单，就是**开展差异化营销**。差异化营销是使得企业最大限度地满足用户需求，从而提高企业的营业业绩；那么差异化营销在该企业是否可行，就需要考虑多个维度的因素，基于时间思维和结构思维进行分析，将用户偏好分为五个阶段和七个要素。\n",
    "\n",
    "研究内容就围绕五个阶段和七个要素进行展开：\n",
    "* 产生需求阶段：购买的原因（why）、决策时间（when）、了解程度（how much）\n",
    "* 信息收集阶段：获取信息的渠道（where）、关注哪些信息（what）\n",
    "* 方案比选阶段：比较时考虑的因素（what）、各因素考虑的程度（how）\n",
    "* 购买决策阶段：最终买的是什么（what）\n",
    "* 购后行为阶段：如何使用彩电（how）"
   ]
  },
  {
   "cell_type": "markdown",
   "metadata": {},
   "source": [
    "## 调查问卷\n",
    "\n",
    "根据以上的研究内容，设计一份调查问卷，来获得相应的调查数据，来进行定量分析。\n",
    "\n",
    "问卷由以下几个问题组成：\n",
    "1. 问卷编号\n",
    "2. 是否购买彩电：S1甄别问题\n",
    "3. 产生需求阶段：Q1购买原因，Q2决策时间，Q3了解程度\n",
    "4. 信息收集阶段：Q4信息渠道，Q5关注信息\n",
    "5. 方案比选阶段：Q6刻录功能考虑程度，Q7耗电量考虑程度，Q8上网功能考虑程度，Q9他人推荐考虑程度，Q10促销活动考虑程度，Q11感兴趣的促销活动\n",
    "6. 购买决策阶段：Q12品牌，Q13价格，Q14外观，Q15规格，Q16颜色\n",
    "7. 购后行为阶段：Q17安装方式，Q18摆放位置\n",
    "8. 用户背景信息：A1性别，A2年龄，A3学历，A4家庭收入，A5住房面积，A6家庭成员"
   ]
  },
  {
   "cell_type": "markdown",
   "metadata": {},
   "source": [
    "## 调研计划\n",
    "\n",
    "完成调查问卷的创建之后，紧接着进行问卷调查，这里需要明确6个问题：\n",
    "* 调查方法：例如中心定点拦截访问（CIL）\n",
    "* 调查对象：某天之后购买过彩电的用户\n",
    "* 调查地点与样本量：\n",
    "* 项目周期：\n",
    "* 项目成员及职责：\n",
    "  * 项目经理：负责整个项目的统筹控制，业务沟通、制定方案、控制进度及质量、团队协调沟通\n",
    "  * 督导员：向项目经理汇报工作进展，招聘和监督访问员，对访问质量直接负责\n",
    "  * 访问员：负责实际访问，向督导员汇报工作进度\n",
    "  * 数据处理人员：调查问卷审核，数据录入，数据检查和对数据质量进行评价\n",
    "  * 数据分析人员：对调查和处理好的数据进行研究分析\n",
    "  * 报告撰写与宣讲人员：撰写分析报告并向相关领导汇报\n",
    "* 项目质量与进度控制：安排跟访，保证数据真实有效性，并及时汇报和录入数据"
   ]
  },
  {
   "cell_type": "markdown",
   "metadata": {},
   "source": [
    "## 数据处理\n",
    "\n",
    "调查得到的数据是最原始的数据，其中可能会出现很多的问题，所以需要对数据先进行处理，主要分为四个步骤：\n",
    "* 数据集成：将多个数据源的数据进行合并\n",
    "* 数据转换：对数据进行标准化处理\n",
    "* 数据消减：对数据进行聚合和降维，减小数据规模\n",
    "* **数据清洗**：数据筛选、数据去重、填补缺失值和数据纠错。（本案例仅关注数据清洗）"
   ]
  },
  {
   "cell_type": "markdown",
   "metadata": {},
   "source": [
    "### 数据编码\n",
    "\n",
    "其中方案比选阶段的Q6-Q10数据为数值数据，可以直接进行数据分析，而其他数据均为类别数据，需要使用编码格式进行数值转换\n",
    "\n",
    "针对**不存在大小**的分类数据，可以直接使用set容器去重，再使用map进行**硬编码**，若存在大小的，最好还是手动创建map参数。例如下面非比较类型分类数据的例子："
   ]
  },
  {
   "cell_type": "code",
   "execution_count": 16,
   "metadata": {},
   "outputs": [
    {
     "data": {
      "text/html": [
       "<div>\n",
       "<style scoped>\n",
       "    .dataframe tbody tr th:only-of-type {\n",
       "        vertical-align: middle;\n",
       "    }\n",
       "\n",
       "    .dataframe tbody tr th {\n",
       "        vertical-align: top;\n",
       "    }\n",
       "\n",
       "    .dataframe thead th {\n",
       "        text-align: right;\n",
       "    }\n",
       "</style>\n",
       "<table border=\"1\" class=\"dataframe\">\n",
       "  <thead>\n",
       "    <tr style=\"text-align: right;\">\n",
       "      <th></th>\n",
       "      <th>A</th>\n",
       "      <th>B</th>\n",
       "      <th>C</th>\n",
       "    </tr>\n",
       "  </thead>\n",
       "  <tbody>\n",
       "    <tr>\n",
       "      <th>0</th>\n",
       "      <td>一</td>\n",
       "      <td>aa</td>\n",
       "      <td>1</td>\n",
       "    </tr>\n",
       "    <tr>\n",
       "      <th>1</th>\n",
       "      <td>二</td>\n",
       "      <td>bb</td>\n",
       "      <td>3</td>\n",
       "    </tr>\n",
       "    <tr>\n",
       "      <th>2</th>\n",
       "      <td>一</td>\n",
       "      <td>cc</td>\n",
       "      <td>5</td>\n",
       "    </tr>\n",
       "    <tr>\n",
       "      <th>3</th>\n",
       "      <td>三</td>\n",
       "      <td>cc</td>\n",
       "      <td>2</td>\n",
       "    </tr>\n",
       "    <tr>\n",
       "      <th>4</th>\n",
       "      <td>一</td>\n",
       "      <td>bb</td>\n",
       "      <td>4</td>\n",
       "    </tr>\n",
       "    <tr>\n",
       "      <th>5</th>\n",
       "      <td>一</td>\n",
       "      <td>aa</td>\n",
       "      <td>2</td>\n",
       "    </tr>\n",
       "    <tr>\n",
       "      <th>6</th>\n",
       "      <td>三</td>\n",
       "      <td>dd</td>\n",
       "      <td>1</td>\n",
       "    </tr>\n",
       "  </tbody>\n",
       "</table>\n",
       "</div>"
      ],
      "text/plain": [
       "   A   B  C\n",
       "0  一  aa  1\n",
       "1  二  bb  3\n",
       "2  一  cc  5\n",
       "3  三  cc  2\n",
       "4  一  bb  4\n",
       "5  一  aa  2\n",
       "6  三  dd  1"
      ]
     },
     "execution_count": 16,
     "metadata": {},
     "output_type": "execute_result"
    }
   ],
   "source": [
    "import pandas as pd\n",
    "df = pd.DataFrame({'A':['一','二','一','三','一','一','三'],\n",
    "                   'B':['aa','bb','cc','cc','bb','aa','dd'],\n",
    "                   'C':[1,3,5,2,4,2,1]})\n",
    "df"
   ]
  },
  {
   "cell_type": "code",
   "execution_count": 28,
   "metadata": {},
   "outputs": [
    {
     "data": {
      "text/plain": [
       "[{'二': 1, '一': 2, '三': 3}, {'aa': 1, 'dd': 2, 'bb': 3, 'cc': 4}]"
      ]
     },
     "execution_count": 28,
     "metadata": {},
     "output_type": "execute_result"
    }
   ],
   "source": [
    "dfobj= df.select_dtypes('object')\n",
    "datamap = []\n",
    "for col in dfobj.columns:\n",
    "    datamap.append({elem: index+1 for index, elem in enumerate(set(df[col]))})\n",
    "datamap"
   ]
  },
  {
   "cell_type": "markdown",
   "metadata": {},
   "source": [
    "### 数据清洗\n",
    "\n",
    "首先通过数据筛选，将`S1甄别问题`为`1`的问卷筛选出来，因为购买了彩电的用户才是我们需要分析的用户。\n",
    "\n",
    "然后对数据进行去重，针对的是问卷编号，保证每个问卷仅出现一次。\n",
    "\n",
    "再对处理数据中存在的缺失值，可以找到缺失值的位置，找到相应问卷进行查看并填补；若问卷上也不存在，则对数值型数据使用统计值填补，对分类型数据使用众数填补；或者少量数据可以直接删除。\n",
    "\n",
    "最后进行数据纠错，数据的错误类型主要有两种，一种是非逻辑错误，就是在问卷调查或录入数据的时候出现差错，这需要加强调研的各个环节的质量监控；另一种是逻辑错误，例如，性别男为“1”，女为“2”，但是录入了3，这种属于逻辑错误，需要在数据编码的时候进行控制。"
   ]
  },
  {
   "cell_type": "markdown",
   "metadata": {},
   "source": [
    "## 分析架构\n",
    "\n",
    " "
   ]
  },
  {
   "cell_type": "markdown",
   "metadata": {},
   "source": []
  },
  {
   "cell_type": "code",
   "execution_count": null,
   "metadata": {},
   "outputs": [],
   "source": []
  },
  {
   "cell_type": "code",
   "execution_count": null,
   "metadata": {},
   "outputs": [],
   "source": []
  },
  {
   "cell_type": "code",
   "execution_count": null,
   "metadata": {},
   "outputs": [],
   "source": []
  },
  {
   "cell_type": "markdown",
   "metadata": {},
   "source": []
  },
  {
   "cell_type": "code",
   "execution_count": 2,
   "metadata": {},
   "outputs": [],
   "source": [
    "import pandas as pd"
   ]
  },
  {
   "cell_type": "code",
   "execution_count": 4,
   "metadata": {},
   "outputs": [],
   "source": [
    "data = pd.read_excel('data/彩电企业用户最终数据.xls')"
   ]
  },
  {
   "cell_type": "code",
   "execution_count": 5,
   "metadata": {},
   "outputs": [
    {
     "data": {
      "text/plain": [
       "Index(['问卷编号', 'S1甄别问题', 'Q1购买原因', 'Q2决策时间', 'Q3了解程度', 'Q4信息渠道', 'Q5关注信息',\n",
       "       'Q6刻录功能考虑程度', 'Q7耗电量考虑程度', 'Q8上网功能考虑程度', 'Q9他人推荐考虑程度', 'Q10促销活动考虑程度',\n",
       "       'Q11感兴趣的促销活动', 'Q12品牌', 'Q13价格', 'Q14外观', 'Q15规格', 'Q16颜色', 'Q17安装方式',\n",
       "       'Q18摆放位置', 'A1性别', 'A2年龄', 'A3学历', 'A4家庭收入', 'A5住房面积', 'A6家庭成员'],\n",
       "      dtype='object')"
      ]
     },
     "execution_count": 5,
     "metadata": {},
     "output_type": "execute_result"
    }
   ],
   "source": [
    "data.columns"
   ]
  },
  {
   "cell_type": "code",
   "execution_count": null,
   "metadata": {},
   "outputs": [],
   "source": []
  }
 ],
 "metadata": {
  "kernelspec": {
   "display_name": "Python 3",
   "language": "python",
   "name": "python3"
  },
  "language_info": {
   "codemirror_mode": {
    "name": "ipython",
    "version": 3
   },
   "file_extension": ".py",
   "mimetype": "text/x-python",
   "name": "python",
   "nbconvert_exporter": "python",
   "pygments_lexer": "ipython3",
   "version": "3.8.5"
  }
 },
 "nbformat": 4,
 "nbformat_minor": 4
}
