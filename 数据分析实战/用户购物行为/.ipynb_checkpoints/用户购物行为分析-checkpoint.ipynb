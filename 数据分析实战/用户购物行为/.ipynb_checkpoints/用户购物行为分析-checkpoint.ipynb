{
 "cells": [
  {
   "cell_type": "markdown",
   "metadata": {},
   "source": [
    "# 导入包和数据"
   ]
  },
  {
   "cell_type": "code",
   "execution_count": 1,
   "metadata": {},
   "outputs": [],
   "source": [
    "from datetime import datetime\n",
    "\n",
    "import matplotlib.pyplot as plt\n",
    "import numpy as np\n",
    "import pandas as pd\n",
    "\n",
    "import seaborn as sns\n",
    "\n",
    "plt.style.use('ggplot')\n",
    "%matplotlib inline\n",
    "# %matplotlib widget\n",
    "plt.rcParams['font.sans-serif'] = 'SimHei'  # 中文问题\n",
    "plt.rcParams['axes.unicode_minus'] = False  # 负号问题\n",
    "%config InlineBackend.figure_format = 'svg'"
   ]
  },
  {
   "cell_type": "code",
   "execution_count": 2,
   "metadata": {},
   "outputs": [],
   "source": [
    "# def reduce_mem_usage(df):\n",
    "#     \"\"\"\n",
    "#     function：来自kaggle，遍历数据框的所有列并修改数据类型 减少内存使用量。\n",
    "#     Parameters：\n",
    "#         df：数据集 DataFrame\n",
    "#     \"\"\"\n",
    "#     start_mem = df.memory_usage().sum() / 1024**2\n",
    "#     print('数据集原始大小是 {:.2f} MB'.format(start_mem))\n",
    "\n",
    "#     for col in df.columns:\n",
    "#         col_type = df[col].dtype\n",
    "\n",
    "#         if col_type != object:\n",
    "#             c_min = df[col].min()\n",
    "#             c_max = df[col].max()\n",
    "#             if str(col_type)[:3] == 'int':\n",
    "#                 if c_min > np.iinfo(np.int8).min and c_max < np.iinfo(np.int8).max:\n",
    "#                     df[col] = df[col].astype(np.int8)\n",
    "#                 elif c_min > np.iinfo(np.int16).min and c_max < np.iinfo(np.int16).max:\n",
    "#                     df[col] = df[col].astype(np.int16)\n",
    "#                 elif c_min > np.iinfo(np.int32).min and c_max < np.iinfo(np.int32).max:\n",
    "#                     df[col] = df[col].astype(np.int32)\n",
    "#                 elif c_min > np.iinfo(np.int64).min and c_max < np.iinfo(np.int64).max:\n",
    "#                     df[col] = df[col].astype(np.int64)\n",
    "#             else:\n",
    "#                 if c_min > np.finfo(np.float16).min and c_max < np.finfo(np.float16).max:\n",
    "#                     df[col] = df[col].astype(np.float16)\n",
    "#                 elif c_min > np.finfo(np.float32).min and c_max < np.finfo(np.float32).max:\n",
    "#                     df[col] = df[col].astype(np.float32)\n",
    "#                 else:\n",
    "#                     df[col] = df[col].astype(np.float64)\n",
    "#         else:\n",
    "#             df[col] = df[col].astype('category')\n",
    "\n",
    "#     end_mem = df.memory_usage().sum() / 1024**2\n",
    "#     print('压缩后的数据集大小是 {:.2f} MB'.format(end_mem))\n",
    "#     print('降低了{:.1f}%'.format(100 * (start_mem - end_mem) / start_mem))\n",
    "\n",
    "#     return df"
   ]
  },
  {
   "cell_type": "code",
   "execution_count": 3,
   "metadata": {},
   "outputs": [],
   "source": [
    "# user_action = pd.read_csv('dataset/jdata_action.csv')\n",
    "# # user_action = reduce_mem_usage(user_action)"
   ]
  },
  {
   "cell_type": "code",
   "execution_count": 4,
   "metadata": {},
   "outputs": [],
   "source": [
    "# # 数据集太大，本次仅截取部分并保存\n",
    "# user_data = user_action[(user_action['action_time'] > '2018-03-30')\n",
    "#                         & (user_action['action_time'] < '2018-04-15')]\n",
    "# user_data.to_csv('dataset/my_user_data.csv', sep=',')"
   ]
  },
  {
   "cell_type": "markdown",
   "metadata": {},
   "source": [
    "# 浏览数据"
   ]
  },
  {
   "cell_type": "code",
   "execution_count": 5,
   "metadata": {},
   "outputs": [
    {
     "data": {
      "text/html": [
       "<div>\n",
       "<style scoped>\n",
       "    .dataframe tbody tr th:only-of-type {\n",
       "        vertical-align: middle;\n",
       "    }\n",
       "\n",
       "    .dataframe tbody tr th {\n",
       "        vertical-align: top;\n",
       "    }\n",
       "\n",
       "    .dataframe thead th {\n",
       "        text-align: right;\n",
       "    }\n",
       "</style>\n",
       "<table border=\"1\" class=\"dataframe\">\n",
       "  <thead>\n",
       "    <tr style=\"text-align: right;\">\n",
       "      <th></th>\n",
       "      <th>user_id</th>\n",
       "      <th>sku_id</th>\n",
       "      <th>action_time</th>\n",
       "      <th>module_id</th>\n",
       "      <th>type</th>\n",
       "    </tr>\n",
       "  </thead>\n",
       "  <tbody>\n",
       "    <tr>\n",
       "      <th>0</th>\n",
       "      <td>1455298</td>\n",
       "      <td>208441</td>\n",
       "      <td>2018-04-11 15:21:43</td>\n",
       "      <td>6190659</td>\n",
       "      <td>1</td>\n",
       "    </tr>\n",
       "    <tr>\n",
       "      <th>1</th>\n",
       "      <td>1455298</td>\n",
       "      <td>334318</td>\n",
       "      <td>2018-04-11 15:14:54</td>\n",
       "      <td>6190659</td>\n",
       "      <td>1</td>\n",
       "    </tr>\n",
       "    <tr>\n",
       "      <th>2</th>\n",
       "      <td>1455298</td>\n",
       "      <td>237755</td>\n",
       "      <td>2018-04-11 15:14:13</td>\n",
       "      <td>6190659</td>\n",
       "      <td>1</td>\n",
       "    </tr>\n",
       "    <tr>\n",
       "      <th>3</th>\n",
       "      <td>1455298</td>\n",
       "      <td>6422</td>\n",
       "      <td>2018-04-11 15:22:25</td>\n",
       "      <td>6190659</td>\n",
       "      <td>1</td>\n",
       "    </tr>\n",
       "    <tr>\n",
       "      <th>4</th>\n",
       "      <td>1455298</td>\n",
       "      <td>268566</td>\n",
       "      <td>2018-04-11 15:14:26</td>\n",
       "      <td>6190659</td>\n",
       "      <td>1</td>\n",
       "    </tr>\n",
       "    <tr>\n",
       "      <th>5</th>\n",
       "      <td>1455298</td>\n",
       "      <td>115915</td>\n",
       "      <td>2018-04-11 15:13:35</td>\n",
       "      <td>6190659</td>\n",
       "      <td>1</td>\n",
       "    </tr>\n",
       "    <tr>\n",
       "      <th>6</th>\n",
       "      <td>1455298</td>\n",
       "      <td>208254</td>\n",
       "      <td>2018-04-11 15:22:16</td>\n",
       "      <td>6190659</td>\n",
       "      <td>1</td>\n",
       "    </tr>\n",
       "    <tr>\n",
       "      <th>7</th>\n",
       "      <td>1455298</td>\n",
       "      <td>177209</td>\n",
       "      <td>2018-04-14 14:09:59</td>\n",
       "      <td>6628254</td>\n",
       "      <td>1</td>\n",
       "    </tr>\n",
       "    <tr>\n",
       "      <th>8</th>\n",
       "      <td>1455298</td>\n",
       "      <td>71793</td>\n",
       "      <td>2018-04-14 14:10:29</td>\n",
       "      <td>6628254</td>\n",
       "      <td>1</td>\n",
       "    </tr>\n",
       "    <tr>\n",
       "      <th>9</th>\n",
       "      <td>1455298</td>\n",
       "      <td>141950</td>\n",
       "      <td>2018-04-12 15:37:53</td>\n",
       "      <td>10207258</td>\n",
       "      <td>1</td>\n",
       "    </tr>\n",
       "  </tbody>\n",
       "</table>\n",
       "</div>"
      ],
      "text/plain": [
       "   user_id  sku_id          action_time  module_id  type\n",
       "0  1455298  208441  2018-04-11 15:21:43    6190659     1\n",
       "1  1455298  334318  2018-04-11 15:14:54    6190659     1\n",
       "2  1455298  237755  2018-04-11 15:14:13    6190659     1\n",
       "3  1455298    6422  2018-04-11 15:22:25    6190659     1\n",
       "4  1455298  268566  2018-04-11 15:14:26    6190659     1\n",
       "5  1455298  115915  2018-04-11 15:13:35    6190659     1\n",
       "6  1455298  208254  2018-04-11 15:22:16    6190659     1\n",
       "7  1455298  177209  2018-04-14 14:09:59    6628254     1\n",
       "8  1455298   71793  2018-04-14 14:10:29    6628254     1\n",
       "9  1455298  141950  2018-04-12 15:37:53   10207258     1"
      ]
     },
     "execution_count": 5,
     "metadata": {},
     "output_type": "execute_result"
    }
   ],
   "source": [
    "# 查看数据类型\n",
    "data = pd.read_csv('dataset/my_user_data.csv')\n",
    "data = data[['user_id', 'sku_id', 'action_time', 'module_id', 'type']]\n",
    "data.head(10)"
   ]
  },
  {
   "cell_type": "code",
   "execution_count": 6,
   "metadata": {},
   "outputs": [
    {
     "name": "stdout",
     "output_type": "stream",
     "text": [
      "<class 'pandas.core.frame.DataFrame'>\n",
      "RangeIndex: 7540394 entries, 0 to 7540393\n",
      "Data columns (total 5 columns):\n",
      " #   Column       Non-Null Count    Dtype \n",
      "---  ------       --------------    ----- \n",
      " 0   user_id      7540394 non-null  int64 \n",
      " 1   sku_id       7540394 non-null  int64 \n",
      " 2   action_time  7540394 non-null  object\n",
      " 3   module_id    7540394 non-null  int64 \n",
      " 4   type         7540394 non-null  int64 \n",
      "dtypes: int64(4), object(1)\n",
      "memory usage: 287.6+ MB\n"
     ]
    }
   ],
   "source": [
    "data.info(verbose=True, null_counts=True)"
   ]
  },
  {
   "cell_type": "code",
   "execution_count": 7,
   "metadata": {},
   "outputs": [
    {
     "data": {
      "text/html": [
       "<div>\n",
       "<style scoped>\n",
       "    .dataframe tbody tr th:only-of-type {\n",
       "        vertical-align: middle;\n",
       "    }\n",
       "\n",
       "    .dataframe tbody tr th {\n",
       "        vertical-align: top;\n",
       "    }\n",
       "\n",
       "    .dataframe thead th {\n",
       "        text-align: right;\n",
       "    }\n",
       "</style>\n",
       "<table border=\"1\" class=\"dataframe\">\n",
       "  <thead>\n",
       "    <tr style=\"text-align: right;\">\n",
       "      <th></th>\n",
       "      <th>user_id</th>\n",
       "      <th>sku_id</th>\n",
       "      <th>module_id</th>\n",
       "      <th>type</th>\n",
       "    </tr>\n",
       "  </thead>\n",
       "  <tbody>\n",
       "    <tr>\n",
       "      <th>count</th>\n",
       "      <td>7.540394e+06</td>\n",
       "      <td>7.540394e+06</td>\n",
       "      <td>7.540394e+06</td>\n",
       "      <td>7.540394e+06</td>\n",
       "    </tr>\n",
       "    <tr>\n",
       "      <th>mean</th>\n",
       "      <td>8.033725e+05</td>\n",
       "      <td>1.890894e+05</td>\n",
       "      <td>6.202712e+06</td>\n",
       "      <td>1.452293e+00</td>\n",
       "    </tr>\n",
       "    <tr>\n",
       "      <th>std</th>\n",
       "      <td>4.654598e+05</td>\n",
       "      <td>1.085908e+05</td>\n",
       "      <td>3.435805e+06</td>\n",
       "      <td>1.132476e+00</td>\n",
       "    </tr>\n",
       "    <tr>\n",
       "      <th>min</th>\n",
       "      <td>2.000000e+00</td>\n",
       "      <td>1.000000e+00</td>\n",
       "      <td>1.000000e+00</td>\n",
       "      <td>1.000000e+00</td>\n",
       "    </tr>\n",
       "    <tr>\n",
       "      <th>25%</th>\n",
       "      <td>3.987740e+05</td>\n",
       "      <td>9.588500e+04</td>\n",
       "      <td>3.188662e+06</td>\n",
       "      <td>1.000000e+00</td>\n",
       "    </tr>\n",
       "    <tr>\n",
       "      <th>50%</th>\n",
       "      <td>8.028010e+05</td>\n",
       "      <td>1.881520e+05</td>\n",
       "      <td>6.381248e+06</td>\n",
       "      <td>1.000000e+00</td>\n",
       "    </tr>\n",
       "    <tr>\n",
       "      <th>75%</th>\n",
       "      <td>1.208782e+06</td>\n",
       "      <td>2.829740e+05</td>\n",
       "      <td>9.574079e+06</td>\n",
       "      <td>1.000000e+00</td>\n",
       "    </tr>\n",
       "    <tr>\n",
       "      <th>max</th>\n",
       "      <td>1.608707e+06</td>\n",
       "      <td>3.784570e+05</td>\n",
       "      <td>1.136361e+07</td>\n",
       "      <td>5.000000e+00</td>\n",
       "    </tr>\n",
       "  </tbody>\n",
       "</table>\n",
       "</div>"
      ],
      "text/plain": [
       "            user_id        sku_id     module_id          type\n",
       "count  7.540394e+06  7.540394e+06  7.540394e+06  7.540394e+06\n",
       "mean   8.033725e+05  1.890894e+05  6.202712e+06  1.452293e+00\n",
       "std    4.654598e+05  1.085908e+05  3.435805e+06  1.132476e+00\n",
       "min    2.000000e+00  1.000000e+00  1.000000e+00  1.000000e+00\n",
       "25%    3.987740e+05  9.588500e+04  3.188662e+06  1.000000e+00\n",
       "50%    8.028010e+05  1.881520e+05  6.381248e+06  1.000000e+00\n",
       "75%    1.208782e+06  2.829740e+05  9.574079e+06  1.000000e+00\n",
       "max    1.608707e+06  3.784570e+05  1.136361e+07  5.000000e+00"
      ]
     },
     "execution_count": 7,
     "metadata": {},
     "output_type": "execute_result"
    }
   ],
   "source": [
    "data.describe()"
   ]
  },
  {
   "cell_type": "markdown",
   "metadata": {},
   "source": [
    "# 数据预处理"
   ]
  },
  {
   "cell_type": "code",
   "execution_count": 8,
   "metadata": {},
   "outputs": [],
   "source": [
    "# 提取日期\n",
    "data['date'] = pd.to_datetime(data['action_time']).dt.date\n",
    "data['hour'] = pd.to_datetime(data['action_time']).dt.hour\n",
    "data['weekday'] = pd.to_datetime(data['action_time']).dt.day_name()"
   ]
  },
  {
   "cell_type": "code",
   "execution_count": 9,
   "metadata": {},
   "outputs": [],
   "source": [
    "# 删除无用列\n",
    "data = data.drop('module_id', axis=1)"
   ]
  },
  {
   "cell_type": "markdown",
   "metadata": {},
   "source": [
    "## 对大数据进行压缩处理"
   ]
  },
  {
   "cell_type": "code",
   "execution_count": 10,
   "metadata": {},
   "outputs": [],
   "source": [
    "def mem_usage(pandas_obj):\n",
    "    if isinstance(pandas_obj, pd.DataFrame):\n",
    "        usage_b = pandas_obj.memory_usage(deep=True).sum()\n",
    "    else:\n",
    "        usage_b = pandas_obj.memory_usage(deep=True)\n",
    "    usage_mb = usage_b/1024**2\n",
    "    return '{:03.2f} MB'.format(usage_mb)"
   ]
  },
  {
   "cell_type": "code",
   "execution_count": 11,
   "metadata": {},
   "outputs": [
    {
     "name": "stdout",
     "output_type": "stream",
     "text": [
      "230.11 MB\n",
      "71.91 MB\n"
     ]
    }
   ],
   "source": [
    "# 向下转化为无符号整数\n",
    "data_int = data.select_dtypes(include=['int64'])\n",
    "data_newint = data_int.apply(pd.to_numeric, downcast='unsigned')\n",
    "print(mem_usage(data_int))\n",
    "print(mem_usage(data_newint))"
   ]
  },
  {
   "cell_type": "code",
   "execution_count": 12,
   "metadata": {},
   "outputs": [
    {
     "data": {
      "text/plain": [
       "action_time    1669414\n",
       "date                16\n",
       "weekday              7\n",
       "dtype: int64"
      ]
     },
     "execution_count": 12,
     "metadata": {},
     "output_type": "execute_result"
    }
   ],
   "source": [
    "data_obj = data.select_dtypes(include=['object'])\n",
    "data_obj.nunique()"
   ]
  },
  {
   "cell_type": "code",
   "execution_count": 13,
   "metadata": {},
   "outputs": [
    {
     "name": "stdout",
     "output_type": "stream",
     "text": [
      "1296.34 MB\n",
      "244.94 MB\n"
     ]
    }
   ],
   "source": [
    "# object对象若具有少量类别，则可以转换为category类型节省大量空间！\n",
    "data_obj = data.select_dtypes(include=['object'])\n",
    "data_newobj = data_obj.astype('category')\n",
    "print(mem_usage(data_obj))\n",
    "print(mem_usage(data_newobj))"
   ]
  },
  {
   "cell_type": "code",
   "execution_count": 18,
   "metadata": {},
   "outputs": [
    {
     "name": "stdout",
     "output_type": "stream",
     "text": [
      "316.85 MB\n"
     ]
    }
   ],
   "source": [
    "behavior = pd.concat([data_newint, data_newobj], axis=1)\n",
    "print(mem_usage(behavior))"
   ]
  },
  {
   "cell_type": "code",
   "execution_count": 19,
   "metadata": {},
   "outputs": [
    {
     "data": {
      "text/html": [
       "<div>\n",
       "<style scoped>\n",
       "    .dataframe tbody tr th:only-of-type {\n",
       "        vertical-align: middle;\n",
       "    }\n",
       "\n",
       "    .dataframe tbody tr th {\n",
       "        vertical-align: top;\n",
       "    }\n",
       "\n",
       "    .dataframe thead th {\n",
       "        text-align: right;\n",
       "    }\n",
       "</style>\n",
       "<table border=\"1\" class=\"dataframe\">\n",
       "  <thead>\n",
       "    <tr style=\"text-align: right;\">\n",
       "      <th></th>\n",
       "      <th>user_id</th>\n",
       "      <th>sku_id</th>\n",
       "      <th>type</th>\n",
       "      <th>hour</th>\n",
       "      <th>action_time</th>\n",
       "      <th>date</th>\n",
       "      <th>weekday</th>\n",
       "    </tr>\n",
       "  </thead>\n",
       "  <tbody>\n",
       "    <tr>\n",
       "      <th>0</th>\n",
       "      <td>1455298</td>\n",
       "      <td>208441</td>\n",
       "      <td>pv</td>\n",
       "      <td>15</td>\n",
       "      <td>2018-04-11 15:21:43</td>\n",
       "      <td>2018-04-11</td>\n",
       "      <td>Wednesday</td>\n",
       "    </tr>\n",
       "    <tr>\n",
       "      <th>1</th>\n",
       "      <td>1455298</td>\n",
       "      <td>334318</td>\n",
       "      <td>pv</td>\n",
       "      <td>15</td>\n",
       "      <td>2018-04-11 15:14:54</td>\n",
       "      <td>2018-04-11</td>\n",
       "      <td>Wednesday</td>\n",
       "    </tr>\n",
       "    <tr>\n",
       "      <th>2</th>\n",
       "      <td>1455298</td>\n",
       "      <td>237755</td>\n",
       "      <td>pv</td>\n",
       "      <td>15</td>\n",
       "      <td>2018-04-11 15:14:13</td>\n",
       "      <td>2018-04-11</td>\n",
       "      <td>Wednesday</td>\n",
       "    </tr>\n",
       "    <tr>\n",
       "      <th>3</th>\n",
       "      <td>1455298</td>\n",
       "      <td>6422</td>\n",
       "      <td>pv</td>\n",
       "      <td>15</td>\n",
       "      <td>2018-04-11 15:22:25</td>\n",
       "      <td>2018-04-11</td>\n",
       "      <td>Wednesday</td>\n",
       "    </tr>\n",
       "    <tr>\n",
       "      <th>4</th>\n",
       "      <td>1455298</td>\n",
       "      <td>268566</td>\n",
       "      <td>pv</td>\n",
       "      <td>15</td>\n",
       "      <td>2018-04-11 15:14:26</td>\n",
       "      <td>2018-04-11</td>\n",
       "      <td>Wednesday</td>\n",
       "    </tr>\n",
       "    <tr>\n",
       "      <th>5</th>\n",
       "      <td>1455298</td>\n",
       "      <td>115915</td>\n",
       "      <td>pv</td>\n",
       "      <td>15</td>\n",
       "      <td>2018-04-11 15:13:35</td>\n",
       "      <td>2018-04-11</td>\n",
       "      <td>Wednesday</td>\n",
       "    </tr>\n",
       "    <tr>\n",
       "      <th>6</th>\n",
       "      <td>1455298</td>\n",
       "      <td>208254</td>\n",
       "      <td>pv</td>\n",
       "      <td>15</td>\n",
       "      <td>2018-04-11 15:22:16</td>\n",
       "      <td>2018-04-11</td>\n",
       "      <td>Wednesday</td>\n",
       "    </tr>\n",
       "    <tr>\n",
       "      <th>7</th>\n",
       "      <td>1455298</td>\n",
       "      <td>177209</td>\n",
       "      <td>pv</td>\n",
       "      <td>14</td>\n",
       "      <td>2018-04-14 14:09:59</td>\n",
       "      <td>2018-04-14</td>\n",
       "      <td>Saturday</td>\n",
       "    </tr>\n",
       "    <tr>\n",
       "      <th>8</th>\n",
       "      <td>1455298</td>\n",
       "      <td>71793</td>\n",
       "      <td>pv</td>\n",
       "      <td>14</td>\n",
       "      <td>2018-04-14 14:10:29</td>\n",
       "      <td>2018-04-14</td>\n",
       "      <td>Saturday</td>\n",
       "    </tr>\n",
       "    <tr>\n",
       "      <th>9</th>\n",
       "      <td>1455298</td>\n",
       "      <td>141950</td>\n",
       "      <td>pv</td>\n",
       "      <td>15</td>\n",
       "      <td>2018-04-12 15:37:53</td>\n",
       "      <td>2018-04-12</td>\n",
       "      <td>Thursday</td>\n",
       "    </tr>\n",
       "  </tbody>\n",
       "</table>\n",
       "</div>"
      ],
      "text/plain": [
       "   user_id  sku_id type  hour          action_time       date    weekday\n",
       "0  1455298  208441   pv    15  2018-04-11 15:21:43 2018-04-11  Wednesday\n",
       "1  1455298  334318   pv    15  2018-04-11 15:14:54 2018-04-11  Wednesday\n",
       "2  1455298  237755   pv    15  2018-04-11 15:14:13 2018-04-11  Wednesday\n",
       "3  1455298    6422   pv    15  2018-04-11 15:22:25 2018-04-11  Wednesday\n",
       "4  1455298  268566   pv    15  2018-04-11 15:14:26 2018-04-11  Wednesday\n",
       "5  1455298  115915   pv    15  2018-04-11 15:13:35 2018-04-11  Wednesday\n",
       "6  1455298  208254   pv    15  2018-04-11 15:22:16 2018-04-11  Wednesday\n",
       "7  1455298  177209   pv    14  2018-04-14 14:09:59 2018-04-14   Saturday\n",
       "8  1455298   71793   pv    14  2018-04-14 14:10:29 2018-04-14   Saturday\n",
       "9  1455298  141950   pv    15  2018-04-12 15:37:53 2018-04-12   Thursday"
      ]
     },
     "execution_count": 19,
     "metadata": {},
     "output_type": "execute_result"
    }
   ],
   "source": [
    "behavior_type = {1: 'pv', 2: 'pay', 3: 'fav', 4: 'comm', 5: 'cart'}\n",
    "behavior['type'] = behavior['type'].apply(lambda x: behavior_type[x])\n",
    "behavior.head(10)"
   ]
  },
  {
   "cell_type": "markdown",
   "metadata": {},
   "source": [
    "# 构建分析指标"
   ]
  },
  {
   "cell_type": "markdown",
   "metadata": {},
   "source": [
    "## 流量分析指标"
   ]
  },
  {
   "cell_type": "code",
   "execution_count": 16,
   "metadata": {},
   "outputs": [],
   "source": [
    "# 总访问量\n",
    "# pv = behavior_new[behavior_new['type'] == 'pv']\n",
    "# 总访客数\n",
    "\n",
    "# 消费用户数\n",
    "\n",
    "# 日均访问量\n",
    "\n",
    "# 人均访问量\n",
    "\n",
    "# 消费用户访问量\n",
    "\n",
    "# 消费用户占比\n",
    "\n",
    "# 消费用户访问量占比\n",
    "\n",
    "# 消费用户人均访问量"
   ]
  },
  {
   "cell_type": "code",
   "execution_count": 17,
   "metadata": {},
   "outputs": [
    {
     "name": "stdout",
     "output_type": "stream",
     "text": [
      "230.56 MB\n",
      "547.62 MB\n"
     ]
    }
   ],
   "source": [
    "temp = data['action_time'].astype('category')\n",
    "print(mem_usage(temp))\n",
    "print(mem_usage(data['action_time']))"
   ]
  },
  {
   "cell_type": "code",
   "execution_count": null,
   "metadata": {},
   "outputs": [],
   "source": []
  }
 ],
 "metadata": {
  "kernelspec": {
   "display_name": "Python 3",
   "language": "python",
   "name": "python3"
  },
  "language_info": {
   "codemirror_mode": {
    "name": "ipython",
    "version": 3
   },
   "file_extension": ".py",
   "mimetype": "text/x-python",
   "name": "python",
   "nbconvert_exporter": "python",
   "pygments_lexer": "ipython3",
   "version": "3.8.3"
  }
 },
 "nbformat": 4,
 "nbformat_minor": 4
}
